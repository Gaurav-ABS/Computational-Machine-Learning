{
 "cells": [
  {
   "cell_type": "markdown",
   "id": "fb5edb15",
   "metadata": {},
   "source": [
    "# Regression Tree\n",
    "\n",
    "***"
   ]
  },
  {
   "cell_type": "markdown",
   "id": "4fc77ccc",
   "metadata": {},
   "source": [
    "# 1. Auto MPG Dataset"
   ]
  },
  {
   "cell_type": "markdown",
   "id": "beb70ce8",
   "metadata": {},
   "source": [
    "### Problem Description :\n",
    "\n",
    "The basic idea of analysing the Auto mpg dataset is to get a fair idea about the factors affecting the aggregate fuel consumption of each car.\n",
    "\n",
    "Cars of different variants of different models of various Car manufacturing companies from origin countries such as USA, Japan and Europe.\n",
    "\n",
    "Fuel consumption of car is affected by various factors such as Model year, Horsepower, Number of Cylinders present, displacement, Weight and Acceleration of the car.\n",
    "\n",
    "We need to find which factors mostly affect the Fuel consumption of a car in order to improve the mpg value.\n",
    "\n",
    "Hence build a model to predict the mpg value of each car.\n"
   ]
  },
  {
   "cell_type": "markdown",
   "id": "f0080341",
   "metadata": {},
   "source": [
    "### Features on the dataset :\n",
    "\n",
    "**cylinders**: contains the number of cylinders present in the car\n",
    "\n",
    "**displacement**: contains the Displacement of the car\n",
    "\n",
    "**horsepower**: contains the Horsepower of the car\n",
    "\n",
    "**weight**: contains the weight of the car\n",
    "\n",
    "**acceleration**: contains the Acceleration of the car\n",
    "\n",
    "**model_year**: contains the model year of the car\n",
    "\n",
    "**origin**: contains the origin country which car belong to\n",
    "\n",
    "**car_name**: contains the name of the car(Brand-Model-Variant)"
   ]
  },
  {
   "cell_type": "markdown",
   "id": "645aebc5",
   "metadata": {},
   "source": [
    "### Target Variable :\n",
    "\n",
    "**mpg** : contains the fuel consumption value of the car(Brand_Model_Variant)"
   ]
  },
  {
   "cell_type": "code",
   "execution_count": 5,
   "id": "a5767fee",
   "metadata": {},
   "outputs": [],
   "source": [
    "# Importing our libraries\n",
    "import matplotlib.pyplot as plt\n",
    "import numpy as np\n",
    "import pandas as pd\n",
    "\n",
    "\n",
    "# Sklearn all\n",
    "from sklearn.metrics import mean_squared_error\n",
    "from sklearn import datasets\n",
    "from sklearn.model_selection import train_test_split\n",
    "\n",
    "from sklearn import tree\n",
    "from sklearn.metrics import accuracy_score\n",
    "from sklearn.tree import plot_tree\n",
    "\n",
    "from sklearn.tree import DecisionTreeRegressor\n",
    "\n",
    "from sklearn.linear_model import LinearRegression\n",
    "\n",
    "import warnings\n",
    "warnings.filterwarnings(\"ignore\")\n",
    "pd.set_option('display.float_format', lambda x: '%.2f' % x)\n",
    "np.set_printoptions(suppress=True)"
   ]
  },
  {
   "cell_type": "code",
   "execution_count": 13,
   "id": "a65cb6c2",
   "metadata": {},
   "outputs": [],
   "source": [
    "# Import data\n",
    "from mlxtend.data import autompg_data\n",
    "auto_X, auto_y = autompg_data()"
   ]
  },
  {
   "cell_type": "code",
   "execution_count": 14,
   "id": "7d7f8722",
   "metadata": {},
   "outputs": [],
   "source": [
    "# Convert to pandas and remove nan column\n",
    "auto_X = pd.DataFrame(auto_X, columns = ['cylinders', 'displacement',  'horsepower', 'weight', 'acceleration', 'model_year', 'origin', 'car_name'])\n",
    "auto_X = auto_X.drop(['car_name'], axis=1)"
   ]
  },
  {
   "cell_type": "code",
   "execution_count": 15,
   "id": "165cee50",
   "metadata": {},
   "outputs": [],
   "source": [
    "# Create train test split\n",
    "X_train, X_test, y_train, y_test = train_test_split(auto_X, auto_y, test_size=0.2, random_state=3)\n"
   ]
  },
  {
   "cell_type": "code",
   "execution_count": 16,
   "id": "8e77b98c",
   "metadata": {},
   "outputs": [
    {
     "data": {
      "text/plain": [
       "DecisionTreeRegressor(max_depth=8, min_samples_leaf=0.13, random_state=43)"
      ]
     },
     "execution_count": 16,
     "metadata": {},
     "output_type": "execute_result"
    }
   ],
   "source": [
    "# Instantitate Decision Tree Regressor\n",
    "dt = DecisionTreeRegressor(max_depth=8,\n",
    "                          min_samples_leaf=0.13,\n",
    "                          random_state = 43)\n",
    "\n",
    "\n",
    "# Fit dt to the training set\n",
    "dt.fit(X_train,y_train)"
   ]
  },
  {
   "cell_type": "code",
   "execution_count": 30,
   "id": "46ef5194",
   "metadata": {},
   "outputs": [
    {
     "data": {
      "text/plain": [
       "array([29.62857143, 19.42931034, 14.50138889, 19.42931034, 24.19210526,\n",
       "       24.19210526, 14.50138889, 33.60517241, 19.42931034, 14.50138889,\n",
       "       14.50138889, 29.62857143, 24.19210526, 19.42931034, 24.19210526,\n",
       "       33.60517241, 14.50138889, 33.60517241, 19.42931034, 33.60517241,\n",
       "       24.19210526, 14.50138889, 19.42931034, 14.50138889, 29.62857143,\n",
       "       14.50138889, 33.60517241, 14.50138889, 24.19210526, 19.42931034,\n",
       "       24.19210526, 14.50138889, 29.62857143, 19.42931034, 24.19210526,\n",
       "       29.62857143, 33.60517241, 24.19210526, 14.50138889, 29.62857143,\n",
       "       24.19210526, 24.19210526, 19.42931034, 19.42931034, 14.50138889,\n",
       "       14.50138889, 24.19210526, 14.50138889, 33.60517241, 19.42931034,\n",
       "       29.62857143, 24.19210526, 24.19210526, 14.50138889, 19.42931034,\n",
       "       14.50138889, 14.50138889, 14.50138889, 29.62857143, 33.60517241,\n",
       "       19.42931034, 14.50138889, 14.50138889, 33.60517241, 14.50138889,\n",
       "       24.19210526, 19.42931034, 33.60517241, 33.60517241, 24.19210526,\n",
       "       24.19210526, 33.60517241, 33.60517241, 24.19210526, 14.50138889,\n",
       "       19.42931034, 14.50138889, 19.42931034, 14.50138889])"
      ]
     },
     "execution_count": 30,
     "metadata": {},
     "output_type": "execute_result"
    }
   ],
   "source": [
    "# Compute prediction\n",
    "y_pred_dt = dt.predict(X_test)\n",
    "\n",
    "y_pred_dt"
   ]
  },
  {
   "cell_type": "code",
   "execution_count": 21,
   "id": "bb5277c6",
   "metadata": {},
   "outputs": [
    {
     "name": "stdout",
     "output_type": "stream",
     "text": [
      "Test set MSE of dt: 10.79\n"
     ]
    }
   ],
   "source": [
    "# Evaluate the model\n",
    "mse_dt = mean_squared_error(y_test, y_pred)\n",
    "print(\"Test set MSE of dt: {:.2f}\".format(mse_dt))"
   ]
  },
  {
   "cell_type": "markdown",
   "id": "67f80a93",
   "metadata": {},
   "source": [
    "- Comparision of the Regression Tree with Linear Regression Model"
   ]
  },
  {
   "cell_type": "code",
   "execution_count": 23,
   "id": "58de923e",
   "metadata": {},
   "outputs": [
    {
     "data": {
      "text/plain": [
       "LinearRegression()"
      ]
     },
     "execution_count": 23,
     "metadata": {},
     "output_type": "execute_result"
    }
   ],
   "source": [
    "# Instantiate Linear Regression Model\n",
    "\n",
    "lr = LinearRegression()\n",
    "\n",
    "# Fit lr to the training set\n",
    "lr.fit(X_train, y_train)"
   ]
  },
  {
   "cell_type": "code",
   "execution_count": 31,
   "id": "f73930aa",
   "metadata": {},
   "outputs": [
    {
     "data": {
      "text/plain": [
       "array([31.50868688, 18.94367973, 19.41345388, 24.28338033, 30.6217465 ,\n",
       "       25.18311937, 19.9290987 , 33.9178569 , 21.93520944, 12.77446455,\n",
       "       11.27400488, 26.61414123, 22.98984846, 16.61043794, 17.69916619,\n",
       "       30.81095602, 11.29894509, 24.45558915, 24.4685327 , 32.27846427,\n",
       "       26.51282898, 11.77528025, 18.60866913, 11.63974292, 28.921882  ,\n",
       "       19.90390673, 37.09221513,  9.90038702, 25.57597615, 19.88422995,\n",
       "       30.63431058, 15.0085588 , 29.02702802, 22.93580201, 25.1624859 ,\n",
       "       33.69945353, 35.28630001, 30.29636007, 13.65835098, 31.87232495,\n",
       "       25.92587932, 27.45557969, 23.7626905 , 22.83768405, 17.59943656,\n",
       "       10.28690147, 30.52840529, 11.68711525, 32.71700301, 21.08465085,\n",
       "       33.35236791, 24.0191807 , 27.3157973 ,  7.42848767, 22.86188327,\n",
       "       10.69940231, 15.91357732, 14.29756733, 32.39085296, 34.19432232,\n",
       "       25.27345999, 13.3419616 , 13.77667505, 36.64015761, 10.72746844,\n",
       "       26.47684883, 22.22465871, 32.0542889 , 30.252116  , 24.11118641,\n",
       "       23.46935655, 29.65234115, 32.59598606, 26.99792223, 15.09737761,\n",
       "       20.00676383, 12.61787611, 21.1641524 , 16.29783539])"
      ]
     },
     "execution_count": 31,
     "metadata": {},
     "output_type": "execute_result"
    }
   ],
   "source": [
    "# Compute prediction\n",
    "y_pred_lr = lr.predict(X_test)\n",
    "y_pred_lr"
   ]
  },
  {
   "cell_type": "code",
   "execution_count": 27,
   "id": "42e78e1f",
   "metadata": {},
   "outputs": [
    {
     "name": "stdout",
     "output_type": "stream",
     "text": [
      "Test set MSE of lr :13.04\n"
     ]
    }
   ],
   "source": [
    "# Evaluate the Linear Regressin model\n",
    "mse_lr = mean_squared_error(y_test, y_pred)\n",
    "print(\"Test set MSE of lr :{:.2f}\".format(mse_lr))"
   ]
  },
  {
   "cell_type": "code",
   "execution_count": 37,
   "id": "375607d4",
   "metadata": {},
   "outputs": [
    {
     "name": "stdout",
     "output_type": "stream",
     "text": [
      "Linear Regression test set MSE: 13.04\n",
      "Regression Tree test set MSE: 10.79\n"
     ]
    }
   ],
   "source": [
    "# Comparision\n",
    "\n",
    "# Print rmse_lr\n",
    "print('Linear Regression test set MSE: {:.2f}'.format(mse_lr))\n",
    " \n",
    "# Print rmse_dt\n",
    "print('Regression Tree test set MSE: {:.2f}'.format(mse_dt))"
   ]
  },
  {
   "cell_type": "code",
   "execution_count": null,
   "id": "77a5e832",
   "metadata": {},
   "outputs": [],
   "source": []
  }
 ],
 "metadata": {
  "kernelspec": {
   "display_name": "Python 3 (ipykernel)",
   "language": "python",
   "name": "python3"
  },
  "language_info": {
   "codemirror_mode": {
    "name": "ipython",
    "version": 3
   },
   "file_extension": ".py",
   "mimetype": "text/x-python",
   "name": "python",
   "nbconvert_exporter": "python",
   "pygments_lexer": "ipython3",
   "version": "3.9.13"
  }
 },
 "nbformat": 4,
 "nbformat_minor": 5
}
